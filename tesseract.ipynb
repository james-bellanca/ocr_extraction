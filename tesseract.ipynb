{
 "cells": [
  {
   "cell_type": "code",
   "execution_count": 10,
   "id": "bcb8a21c",
   "metadata": {},
   "outputs": [
    {
     "name": "stdout",
     "output_type": "stream",
     "text": [
      "\u001b[34m==>\u001b[0m \u001b[1mDownloading https://formulae.brew.sh/api/formula.jws.json\u001b[0m\n",
      "#=#=#                                                                          \n",
      "\u001b[34m==>\u001b[0m \u001b[1mDownloading https://formulae.brew.sh/api/cask.jws.json\u001b[0m\n",
      "###################################################################        93.1%^C\n",
      "\n",
      "Requirement already satisfied: pytesseract in /Library/Frameworks/Python.framework/Versions/3.10/lib/python3.10/site-packages (0.3.10)\n",
      "Requirement already satisfied: packaging>=21.3 in /Library/Frameworks/Python.framework/Versions/3.10/lib/python3.10/site-packages (from pytesseract) (23.2)\n",
      "Requirement already satisfied: Pillow>=8.0.0 in /Library/Frameworks/Python.framework/Versions/3.10/lib/python3.10/site-packages (from pytesseract) (9.5.0)\n",
      "\n",
      "\u001b[1m[\u001b[0m\u001b[34;49mnotice\u001b[0m\u001b[1;39;49m]\u001b[0m\u001b[39;49m A new release of pip is available: \u001b[0m\u001b[31;49m23.1.2\u001b[0m\u001b[39;49m -> \u001b[0m\u001b[32;49m24.0\u001b[0m\n",
      "\u001b[1m[\u001b[0m\u001b[34;49mnotice\u001b[0m\u001b[1;39;49m]\u001b[0m\u001b[39;49m To update, run: \u001b[0m\u001b[32;49mpip3.10 install --upgrade pip\u001b[0m\n"
     ]
    }
   ],
   "source": [
    "import sys\n",
    "!brew install tesseract\n",
    "!{sys.executable} -m pip install pytesseract\n",
    "!{sys.executable} -m pip install opencv-python\n",
    "!{sys.executable} -m pip install opencv-python"
   ]
  },
  {
   "cell_type": "code",
   "execution_count": 1,
   "id": "fb06a62e",
   "metadata": {},
   "outputs": [
    {
     "name": "stdout",
     "output_type": "stream",
     "text": [
      "37a FR\n",
      "\n",
      "a)\n",
      "UL\n",
      "\n",
      "ENGINEERING DATA TRANSMITTAL\n",
      "\n",
      "torte\n",
      "ver NO 615424\n",
      "\n",
      "(Receiving Organization)\n",
      "Chemistry and Statistics\n",
      "\n",
      "Fron: (Originating Orgenizatien)\n",
      "Goprarier ice itge\n",
      "\n",
      "Related OT Nore\n",
      "\n",
      "N/A\n",
      "\n",
      "5. pref. (Prog /bept./0iv.4\n",
      "\n",
      "C. G. Linschooten\n",
      "\n",
      "7. Purchase Order Nov?\n",
      "N/A\n",
      "\n",
      "'. orlainator kenaris:\n",
      "\n",
      "ETN-96-0025\n",
      "\n",
      "9. aul. /Companent No.\n",
      "NYA\n",
      "\n",
      "10, Systenvsica./Facititye\n",
      "200 General _/ 222-5 Lab.\n",
      "\n",
      "Thy Receiver Renarkee\n",
      "\n",
      "12. Major Asse. Dwg. Wo.2\n",
      "He\n",
      "\n",
      "15, PermityPerait Apptication Rox?\n",
      "N/A\n",
      "\n",
      "Th, Required Response Deter\n",
      "N/A\n",
      "\n",
      "= c co a\n",
      "ar on a pews | Bases Teo\n",
      "tS eee ra mre oewmetoetoue | “Deng | ee =\n",
      "\n",
      "1 | WAC-SO-WH-ATR-180 | N/A | 0 | Acceptance Test ws ft\n",
      "\n",
      "eport for Waste Tank\n",
      "Sample Vessel H-2-\n",
      "826884 -\n",
      "\n",
      "1 Assenbl,\n",
      "\n",
      "2 Apr fcr\n",
      "\n",
      "O70\n",
      "\n",
      "Ti RORROMAL CTF Feaulreay\n",
      "eer hee\n",
      "\n",
      "depres\n",
      "8 Meroe’ weomonts\n",
      "\n",
      "ETRY FD\n",
      "\n"
     ]
    }
   ],
   "source": [
    "# installation\n",
    "import pytesseract\n",
    "from pytesseract import Output\n",
    "from PIL import Image\n",
    "import cv2\n",
    "\n",
    "img_path1 = 'sample_waste_report.jpeg'\n",
    "text = pytesseract.image_to_string(img_path1,lang='eng')\n",
    "print(text)"
   ]
  },
  {
   "cell_type": "code",
   "execution_count": null,
   "id": "97360046",
   "metadata": {},
   "outputs": [],
   "source": []
  }
 ],
 "metadata": {
  "kernelspec": {
   "display_name": "Python 3 (ipykernel)",
   "language": "python",
   "name": "python3"
  },
  "language_info": {
   "codemirror_mode": {
    "name": "ipython",
    "version": 3
   },
   "file_extension": ".py",
   "mimetype": "text/x-python",
   "name": "python",
   "nbconvert_exporter": "python",
   "pygments_lexer": "ipython3",
   "version": "3.10.5"
  }
 },
 "nbformat": 4,
 "nbformat_minor": 5
}
